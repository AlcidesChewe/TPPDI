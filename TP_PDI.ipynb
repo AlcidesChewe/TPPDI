{
  "cells": [
    {
      "cell_type": "code",
      "execution_count": null,
      "metadata": {
        "colab": {
          "base_uri": "https://localhost:8080/"
        },
        "id": "RSVvntZOT2II",
        "outputId": "ac7841ca-49a8-45e4-afa3-1399ee8dc165"
      },
      "outputs": [
        {
          "output_type": "stream",
          "name": "stdout",
          "text": [
            "Requirement already satisfied: opencv-python in /usr/local/lib/python3.10/dist-packages (4.8.0.76)\n",
            "Requirement already satisfied: numpy>=1.21.2 in /usr/local/lib/python3.10/dist-packages (from opencv-python) (1.23.5)\n"
          ]
        }
      ],
      "source": [
        "pip install opencv-python"
      ]
    },
    {
      "cell_type": "code",
      "source": [
        "import cv2\n",
        "from google.colab.patches import cv2_imshow"
      ],
      "metadata": {
        "id": "rQOmcO6sRYeT"
      },
      "execution_count": null,
      "outputs": []
    },
    {
      "cell_type": "code",
      "source": [
        "# Cargar el video grabado\n",
        "video_path = 'video.mp4'\n",
        "cap = cv2.VideoCapture(video_path)"
      ],
      "metadata": {
        "id": "nGSlS2EZRd-S"
      },
      "execution_count": 6,
      "outputs": []
    },
    {
      "cell_type": "code",
      "execution_count": 7,
      "metadata": {
        "id": "-HwvTG_iM0nY"
      },
      "outputs": [],
      "source": [
        "# Cargar el modelo pre-entrenado para la detección de personas\n",
        "hog = cv2.HOGDescriptor()\n",
        "hog.setSVMDetector(cv2.HOGDescriptor_getDefaultPeopleDetector())\n",
        "\n",
        "# Definir las coordenadas y el tamaño del ROI (región de interés)\n",
        "roi_x = 115  # Coordenada x del esquina superior izquierda del ROI\n",
        "roi_y = 90  # Coordenada y del esquina superior izquierda del ROI\n",
        "roi_width = 350  # Ancho del ROI\n",
        "roi_height = 190  # Altura del ROI\n",
        "frames_free = 0\n",
        "frames_occupied = 0\n",
        "# Redefinir el tamaño del video para reducir la resolución (ajusta según sea necesario)\n",
        "frame_width = 640\n",
        "frame_height = 360\n",
        "out = cv2.VideoWriter('output_video_two.mp4', cv2.VideoWriter_fourcc(*'mp4v'), 30, (frame_width, frame_height))\n",
        "\n",
        "while True:\n",
        "    ret, frame = cap.read()\n",
        "\n",
        "    if not ret:\n",
        "        break\n",
        "\n",
        "    # Redimensionar el cuadro para reducir la resolución\n",
        "    frame = cv2.resize(frame, (frame_width, frame_height))\n",
        "\n",
        "    # Obtener la región de interés (ROI) del cuadro actual\n",
        "    roi = frame[roi_y:roi_y + roi_height, roi_x:roi_x + roi_width]\n",
        "\n",
        "    # Detectar personas en la región de interés\n",
        "    boxes, _ = hog.detectMultiScale(roi)\n",
        "\n",
        "    # Determinar si hay personas en la región de interés\n",
        "    if len(boxes) > 0:\n",
        "        # Si hay personas, marcar el ROI en rojo\n",
        "        cv2.rectangle(frame, (roi_x, roi_y), (roi_x + roi_width, roi_y + roi_height), (0, 0, 255), 2)\n",
        "        frames_occupied += 1\n",
        "    else:\n",
        "        # Si está libre, marcar el ROI en verde\n",
        "        cv2.rectangle(frame, (roi_x, roi_y), (roi_x + roi_width, roi_y + roi_height), (0, 255, 0), 2)\n",
        "        frames_free += 1\n",
        "\n",
        "    # Escribir el cuadro en el video de salida\n",
        "\n",
        "    #añadiendo textos de cuantos frames libres y ocupados.\n",
        "    text = f'Frames Libres: {frames_free}'\n",
        "    font = cv2.FONT_HERSHEY_SIMPLEX\n",
        "    font_scale = 0.68\n",
        "    font_color = (0, 255, 0)  # Color verde\n",
        "    thickness = 1\n",
        "    x, y = 50, 306 # Coordinates to place the text\n",
        "    cv2.putText(frame, text, (x, y), font, font_scale, font_color, thickness)\n",
        "\n",
        "    text = f'Frames Ocupados: {frames_occupied}'\n",
        "    font = cv2.FONT_HERSHEY_SIMPLEX\n",
        "    font_scale = 0.68\n",
        "    font_color = (0, 0, 255)  # Color rojo\n",
        "    thickness = 1\n",
        "    x, y = 50, 332 # Coordinates to place the text\n",
        "    cv2.putText(frame, text, (x, y), font, font_scale, font_color, thickness)\n",
        "\n",
        "    out.write(frame)\n",
        "\n",
        "    if cv2.waitKey(1) & 0xFF == ord('q'):\n",
        "        break\n",
        "\n",
        "cap.release()\n",
        "out.release()\n",
        "cv2.destroyAllWindows()"
      ]
    }
  ],
  "metadata": {
    "colab": {
      "provenance": []
    },
    "kernelspec": {
      "display_name": "Python 3",
      "name": "python3"
    },
    "language_info": {
      "name": "python"
    }
  },
  "nbformat": 4,
  "nbformat_minor": 0
}